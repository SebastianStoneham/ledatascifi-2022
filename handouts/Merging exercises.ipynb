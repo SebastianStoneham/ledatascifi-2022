{
 "cells": [
  {
   "cell_type": "markdown",
   "id": "5961187a-179f-4690-a89e-a0fd9178229c",
   "metadata": {
    "slideshow": {
     "slide_type": "subslide"
    }
   },
   "source": [
    "# The merge function\n"
   ]
  },
  {
   "cell_type": "code",
   "execution_count": 1,
   "id": "3c5a0a2b-83e2-40e8-8ee5-3d08729e0a71",
   "metadata": {
    "slideshow": {
     "slide_type": "subslide"
    }
   },
   "outputs": [],
   "source": [
    "import pandas as pd\n",
    "\n",
    "left_df = pd.DataFrame({\n",
    "                    'firm': ['Accenture','Citi','GS'],\n",
    "                    'varA': ['A1', 'A2', 'A3']})\n",
    "\n",
    "right_df = pd.DataFrame({\n",
    "                    'firm': ['GS','Chase','WF'],\n",
    "                    'varB': ['B1', 'B2', 'B3'],\n",
    "                    'varc': ['C1', 'C2', 'C3']})    \n"
   ]
  },
  {
   "cell_type": "markdown",
   "id": "4c306a2a-2f72-4e45-8fa5-5f8e3d8223ac",
   "metadata": {
    "slideshow": {
     "slide_type": "subslide"
    }
   },
   "source": [
    "Let use shift+tab to talk about the parameters.\n",
    "\n",
    "Put your cursor in the merge function below and hit shift tab"
   ]
  },
  {
   "cell_type": "code",
   "execution_count": 2,
   "id": "35952858-57ae-49c5-b4f8-b3e45bca03e7",
   "metadata": {},
   "outputs": [
    {
     "ename": "SyntaxError",
     "evalue": "unexpected EOF while parsing (<ipython-input-2-473667b7a00d>, line 1)",
     "output_type": "error",
     "traceback": [
      "\u001b[0;36m  File \u001b[0;32m\"<ipython-input-2-473667b7a00d>\"\u001b[0;36m, line \u001b[0;32m1\u001b[0m\n\u001b[0;31m    left_df.merge(\u001b[0m\n\u001b[0m                  ^\u001b[0m\n\u001b[0;31mSyntaxError\u001b[0m\u001b[0;31m:\u001b[0m unexpected EOF while parsing\n"
     ]
    }
   ],
   "source": [
    "left_df.merge("
   ]
  },
  {
   "cell_type": "code",
   "execution_count": 3,
   "id": "52b060c2-6e8d-43e9-bfda-6be6e6c691ec",
   "metadata": {},
   "outputs": [
    {
     "data": {
      "text/html": [
       "<div>\n",
       "<style scoped>\n",
       "    .dataframe tbody tr th:only-of-type {\n",
       "        vertical-align: middle;\n",
       "    }\n",
       "\n",
       "    .dataframe tbody tr th {\n",
       "        vertical-align: top;\n",
       "    }\n",
       "\n",
       "    .dataframe thead th {\n",
       "        text-align: right;\n",
       "    }\n",
       "</style>\n",
       "<table border=\"1\" class=\"dataframe\">\n",
       "  <thead>\n",
       "    <tr style=\"text-align: right;\">\n",
       "      <th></th>\n",
       "      <th>firm</th>\n",
       "      <th>varA</th>\n",
       "    </tr>\n",
       "  </thead>\n",
       "  <tbody>\n",
       "    <tr>\n",
       "      <th>0</th>\n",
       "      <td>Accenture</td>\n",
       "      <td>A1</td>\n",
       "    </tr>\n",
       "    <tr>\n",
       "      <th>1</th>\n",
       "      <td>Citi</td>\n",
       "      <td>A2</td>\n",
       "    </tr>\n",
       "    <tr>\n",
       "      <th>2</th>\n",
       "      <td>GS</td>\n",
       "      <td>A3</td>\n",
       "    </tr>\n",
       "  </tbody>\n",
       "</table>\n",
       "</div>"
      ],
      "text/plain": [
       "        firm varA\n",
       "0  Accenture   A1\n",
       "1       Citi   A2\n",
       "2         GS   A3"
      ]
     },
     "execution_count": 3,
     "metadata": {},
     "output_type": "execute_result"
    }
   ],
   "source": [
    "left_df"
   ]
  },
  {
   "cell_type": "code",
   "execution_count": 4,
   "id": "3dace4fa-7d0c-464a-a783-cbef147819a0",
   "metadata": {},
   "outputs": [
    {
     "data": {
      "text/html": [
       "<div>\n",
       "<style scoped>\n",
       "    .dataframe tbody tr th:only-of-type {\n",
       "        vertical-align: middle;\n",
       "    }\n",
       "\n",
       "    .dataframe tbody tr th {\n",
       "        vertical-align: top;\n",
       "    }\n",
       "\n",
       "    .dataframe thead th {\n",
       "        text-align: right;\n",
       "    }\n",
       "</style>\n",
       "<table border=\"1\" class=\"dataframe\">\n",
       "  <thead>\n",
       "    <tr style=\"text-align: right;\">\n",
       "      <th></th>\n",
       "      <th>firm</th>\n",
       "      <th>varB</th>\n",
       "      <th>varc</th>\n",
       "    </tr>\n",
       "  </thead>\n",
       "  <tbody>\n",
       "    <tr>\n",
       "      <th>0</th>\n",
       "      <td>GS</td>\n",
       "      <td>B1</td>\n",
       "      <td>C1</td>\n",
       "    </tr>\n",
       "    <tr>\n",
       "      <th>1</th>\n",
       "      <td>Chase</td>\n",
       "      <td>B2</td>\n",
       "      <td>C2</td>\n",
       "    </tr>\n",
       "    <tr>\n",
       "      <th>2</th>\n",
       "      <td>WF</td>\n",
       "      <td>B3</td>\n",
       "      <td>C3</td>\n",
       "    </tr>\n",
       "  </tbody>\n",
       "</table>\n",
       "</div>"
      ],
      "text/plain": [
       "    firm varB varc\n",
       "0     GS   B1   C1\n",
       "1  Chase   B2   C2\n",
       "2     WF   B3   C3"
      ]
     },
     "execution_count": 4,
     "metadata": {},
     "output_type": "execute_result"
    }
   ],
   "source": [
    "right_df"
   ]
  },
  {
   "cell_type": "markdown",
   "id": "10271af4-5450-4f79-bde3-f85893adef92",
   "metadata": {},
   "source": [
    "The main parameters:\n",
    "- right\n",
    "- how\n",
    "- on and its variants \n",
    "- indicator \n",
    "- validate "
   ]
  },
  {
   "cell_type": "markdown",
   "id": "bac36ace-f918-489c-8c7e-98d438063b4c",
   "metadata": {},
   "source": [
    "## Part 1\n",
    "\n",
    "_Prof: Leave the \"how\" slide on the board_\n",
    "\n",
    "Some work with the mechanics:\n",
    "\n",
    "- Q0 Merge both datasets above with each possible value of `how`. How many observations result from each of the four merges?\n",
    "- Q1 Compare `left_df.merge(right_df)` and `pd.merge(left_df, right_df)`. Are they the same or different? What do we learn from this?\n",
    "- Q2 Successfully do an outer merge between `left_df` and `ChosenOne`. Then try to do an outer merge between `left_df` and `CurryForThree` (both are defined below)"
   ]
  },
  {
   "cell_type": "markdown",
   "id": "e034fbcb-b4bc-4a1a-9e86-71aefc4db020",
   "metadata": {},
   "source": [
    "- Q3 Do an outer merge with `left_df` and `right_df` and output the source of each observation by using the \"indicate\" option."
   ]
  },
  {
   "cell_type": "markdown",
   "id": "fe15d2be-e9ea-4a1d-b00a-2fc66a864621",
   "metadata": {},
   "source": [
    "- Q4 Repeat the outer merge we just did, but four times: try each possible value of \"validate\""
   ]
  },
  {
   "cell_type": "code",
   "execution_count": 5,
   "id": "90538152-2cd2-450c-8491-42121b653474",
   "metadata": {},
   "outputs": [
    {
     "data": {
      "text/html": [
       "<div>\n",
       "<style scoped>\n",
       "    .dataframe tbody tr th:only-of-type {\n",
       "        vertical-align: middle;\n",
       "    }\n",
       "\n",
       "    .dataframe tbody tr th {\n",
       "        vertical-align: top;\n",
       "    }\n",
       "\n",
       "    .dataframe thead th {\n",
       "        text-align: right;\n",
       "    }\n",
       "</style>\n",
       "<table border=\"1\" class=\"dataframe\">\n",
       "  <thead>\n",
       "    <tr style=\"text-align: right;\">\n",
       "      <th></th>\n",
       "      <th>firm</th>\n",
       "      <th>varA</th>\n",
       "      <th>varB</th>\n",
       "      <th>varc</th>\n",
       "    </tr>\n",
       "  </thead>\n",
       "  <tbody>\n",
       "    <tr>\n",
       "      <th>0</th>\n",
       "      <td>GS</td>\n",
       "      <td>A3</td>\n",
       "      <td>B1</td>\n",
       "      <td>C1</td>\n",
       "    </tr>\n",
       "  </tbody>\n",
       "</table>\n",
       "</div>"
      ],
      "text/plain": [
       "  firm varA varB varc\n",
       "0   GS   A3   B1   C1"
      ]
     },
     "execution_count": 5,
     "metadata": {},
     "output_type": "execute_result"
    }
   ],
   "source": [
    "left_df.merge(right_df, how='inner')"
   ]
  },
  {
   "cell_type": "code",
   "execution_count": 6,
   "id": "880603af-2e57-4382-a947-e28cf752254c",
   "metadata": {},
   "outputs": [
    {
     "data": {
      "text/html": [
       "<div>\n",
       "<style scoped>\n",
       "    .dataframe tbody tr th:only-of-type {\n",
       "        vertical-align: middle;\n",
       "    }\n",
       "\n",
       "    .dataframe tbody tr th {\n",
       "        vertical-align: top;\n",
       "    }\n",
       "\n",
       "    .dataframe thead th {\n",
       "        text-align: right;\n",
       "    }\n",
       "</style>\n",
       "<table border=\"1\" class=\"dataframe\">\n",
       "  <thead>\n",
       "    <tr style=\"text-align: right;\">\n",
       "      <th></th>\n",
       "      <th>firm</th>\n",
       "      <th>varA</th>\n",
       "      <th>varB</th>\n",
       "      <th>varc</th>\n",
       "    </tr>\n",
       "  </thead>\n",
       "  <tbody>\n",
       "    <tr>\n",
       "      <th>0</th>\n",
       "      <td>Accenture</td>\n",
       "      <td>A1</td>\n",
       "      <td>NaN</td>\n",
       "      <td>NaN</td>\n",
       "    </tr>\n",
       "    <tr>\n",
       "      <th>1</th>\n",
       "      <td>Citi</td>\n",
       "      <td>A2</td>\n",
       "      <td>NaN</td>\n",
       "      <td>NaN</td>\n",
       "    </tr>\n",
       "    <tr>\n",
       "      <th>2</th>\n",
       "      <td>GS</td>\n",
       "      <td>A3</td>\n",
       "      <td>B1</td>\n",
       "      <td>C1</td>\n",
       "    </tr>\n",
       "  </tbody>\n",
       "</table>\n",
       "</div>"
      ],
      "text/plain": [
       "        firm varA varB varc\n",
       "0  Accenture   A1  NaN  NaN\n",
       "1       Citi   A2  NaN  NaN\n",
       "2         GS   A3   B1   C1"
      ]
     },
     "execution_count": 6,
     "metadata": {},
     "output_type": "execute_result"
    }
   ],
   "source": [
    "left_df.merge(right_df, how='left')"
   ]
  },
  {
   "cell_type": "code",
   "execution_count": 7,
   "id": "cca6ef07-8d80-4761-967a-783c3b5ab3f5",
   "metadata": {},
   "outputs": [
    {
     "data": {
      "text/html": [
       "<div>\n",
       "<style scoped>\n",
       "    .dataframe tbody tr th:only-of-type {\n",
       "        vertical-align: middle;\n",
       "    }\n",
       "\n",
       "    .dataframe tbody tr th {\n",
       "        vertical-align: top;\n",
       "    }\n",
       "\n",
       "    .dataframe thead th {\n",
       "        text-align: right;\n",
       "    }\n",
       "</style>\n",
       "<table border=\"1\" class=\"dataframe\">\n",
       "  <thead>\n",
       "    <tr style=\"text-align: right;\">\n",
       "      <th></th>\n",
       "      <th>firm</th>\n",
       "      <th>varA</th>\n",
       "      <th>varB</th>\n",
       "      <th>varc</th>\n",
       "    </tr>\n",
       "  </thead>\n",
       "  <tbody>\n",
       "    <tr>\n",
       "      <th>0</th>\n",
       "      <td>GS</td>\n",
       "      <td>A3</td>\n",
       "      <td>B1</td>\n",
       "      <td>C1</td>\n",
       "    </tr>\n",
       "    <tr>\n",
       "      <th>1</th>\n",
       "      <td>Chase</td>\n",
       "      <td>NaN</td>\n",
       "      <td>B2</td>\n",
       "      <td>C2</td>\n",
       "    </tr>\n",
       "    <tr>\n",
       "      <th>2</th>\n",
       "      <td>WF</td>\n",
       "      <td>NaN</td>\n",
       "      <td>B3</td>\n",
       "      <td>C3</td>\n",
       "    </tr>\n",
       "  </tbody>\n",
       "</table>\n",
       "</div>"
      ],
      "text/plain": [
       "    firm varA varB varc\n",
       "0     GS   A3   B1   C1\n",
       "1  Chase  NaN   B2   C2\n",
       "2     WF  NaN   B3   C3"
      ]
     },
     "execution_count": 7,
     "metadata": {},
     "output_type": "execute_result"
    }
   ],
   "source": [
    "left_df.merge(right_df, how='right')"
   ]
  },
  {
   "cell_type": "code",
   "execution_count": 8,
   "id": "fc14c22b-0fb0-4852-b475-abbca3535843",
   "metadata": {},
   "outputs": [
    {
     "data": {
      "text/html": [
       "<div>\n",
       "<style scoped>\n",
       "    .dataframe tbody tr th:only-of-type {\n",
       "        vertical-align: middle;\n",
       "    }\n",
       "\n",
       "    .dataframe tbody tr th {\n",
       "        vertical-align: top;\n",
       "    }\n",
       "\n",
       "    .dataframe thead th {\n",
       "        text-align: right;\n",
       "    }\n",
       "</style>\n",
       "<table border=\"1\" class=\"dataframe\">\n",
       "  <thead>\n",
       "    <tr style=\"text-align: right;\">\n",
       "      <th></th>\n",
       "      <th>firm</th>\n",
       "      <th>varA</th>\n",
       "      <th>varB</th>\n",
       "      <th>varc</th>\n",
       "    </tr>\n",
       "  </thead>\n",
       "  <tbody>\n",
       "    <tr>\n",
       "      <th>0</th>\n",
       "      <td>Accenture</td>\n",
       "      <td>A1</td>\n",
       "      <td>NaN</td>\n",
       "      <td>NaN</td>\n",
       "    </tr>\n",
       "    <tr>\n",
       "      <th>1</th>\n",
       "      <td>Citi</td>\n",
       "      <td>A2</td>\n",
       "      <td>NaN</td>\n",
       "      <td>NaN</td>\n",
       "    </tr>\n",
       "    <tr>\n",
       "      <th>2</th>\n",
       "      <td>GS</td>\n",
       "      <td>A3</td>\n",
       "      <td>B1</td>\n",
       "      <td>C1</td>\n",
       "    </tr>\n",
       "    <tr>\n",
       "      <th>3</th>\n",
       "      <td>Chase</td>\n",
       "      <td>NaN</td>\n",
       "      <td>B2</td>\n",
       "      <td>C2</td>\n",
       "    </tr>\n",
       "    <tr>\n",
       "      <th>4</th>\n",
       "      <td>WF</td>\n",
       "      <td>NaN</td>\n",
       "      <td>B3</td>\n",
       "      <td>C3</td>\n",
       "    </tr>\n",
       "  </tbody>\n",
       "</table>\n",
       "</div>"
      ],
      "text/plain": [
       "        firm varA varB varc\n",
       "0  Accenture   A1  NaN  NaN\n",
       "1       Citi   A2  NaN  NaN\n",
       "2         GS   A3   B1   C1\n",
       "3      Chase  NaN   B2   C2\n",
       "4         WF  NaN   B3   C3"
      ]
     },
     "execution_count": 8,
     "metadata": {},
     "output_type": "execute_result"
    }
   ],
   "source": [
    "left_df.merge(right_df, how='outer')"
   ]
  },
  {
   "cell_type": "code",
   "execution_count": 9,
   "id": "08658149-aa79-48ae-a734-6195937c16d7",
   "metadata": {},
   "outputs": [
    {
     "data": {
      "text/html": [
       "<div>\n",
       "<style scoped>\n",
       "    .dataframe tbody tr th:only-of-type {\n",
       "        vertical-align: middle;\n",
       "    }\n",
       "\n",
       "    .dataframe tbody tr th {\n",
       "        vertical-align: top;\n",
       "    }\n",
       "\n",
       "    .dataframe thead th {\n",
       "        text-align: right;\n",
       "    }\n",
       "</style>\n",
       "<table border=\"1\" class=\"dataframe\">\n",
       "  <thead>\n",
       "    <tr style=\"text-align: right;\">\n",
       "      <th></th>\n",
       "      <th>firm_x</th>\n",
       "      <th>varA</th>\n",
       "      <th>firm_y</th>\n",
       "      <th>varB</th>\n",
       "      <th>varc</th>\n",
       "    </tr>\n",
       "  </thead>\n",
       "  <tbody>\n",
       "    <tr>\n",
       "      <th>0</th>\n",
       "      <td>Accenture</td>\n",
       "      <td>A1</td>\n",
       "      <td>GS</td>\n",
       "      <td>B1</td>\n",
       "      <td>C1</td>\n",
       "    </tr>\n",
       "    <tr>\n",
       "      <th>1</th>\n",
       "      <td>Accenture</td>\n",
       "      <td>A1</td>\n",
       "      <td>Chase</td>\n",
       "      <td>B2</td>\n",
       "      <td>C2</td>\n",
       "    </tr>\n",
       "    <tr>\n",
       "      <th>2</th>\n",
       "      <td>Accenture</td>\n",
       "      <td>A1</td>\n",
       "      <td>WF</td>\n",
       "      <td>B3</td>\n",
       "      <td>C3</td>\n",
       "    </tr>\n",
       "    <tr>\n",
       "      <th>3</th>\n",
       "      <td>Citi</td>\n",
       "      <td>A2</td>\n",
       "      <td>GS</td>\n",
       "      <td>B1</td>\n",
       "      <td>C1</td>\n",
       "    </tr>\n",
       "    <tr>\n",
       "      <th>4</th>\n",
       "      <td>Citi</td>\n",
       "      <td>A2</td>\n",
       "      <td>Chase</td>\n",
       "      <td>B2</td>\n",
       "      <td>C2</td>\n",
       "    </tr>\n",
       "    <tr>\n",
       "      <th>5</th>\n",
       "      <td>Citi</td>\n",
       "      <td>A2</td>\n",
       "      <td>WF</td>\n",
       "      <td>B3</td>\n",
       "      <td>C3</td>\n",
       "    </tr>\n",
       "    <tr>\n",
       "      <th>6</th>\n",
       "      <td>GS</td>\n",
       "      <td>A3</td>\n",
       "      <td>GS</td>\n",
       "      <td>B1</td>\n",
       "      <td>C1</td>\n",
       "    </tr>\n",
       "    <tr>\n",
       "      <th>7</th>\n",
       "      <td>GS</td>\n",
       "      <td>A3</td>\n",
       "      <td>Chase</td>\n",
       "      <td>B2</td>\n",
       "      <td>C2</td>\n",
       "    </tr>\n",
       "    <tr>\n",
       "      <th>8</th>\n",
       "      <td>GS</td>\n",
       "      <td>A3</td>\n",
       "      <td>WF</td>\n",
       "      <td>B3</td>\n",
       "      <td>C3</td>\n",
       "    </tr>\n",
       "  </tbody>\n",
       "</table>\n",
       "</div>"
      ],
      "text/plain": [
       "      firm_x varA firm_y varB varc\n",
       "0  Accenture   A1     GS   B1   C1\n",
       "1  Accenture   A1  Chase   B2   C2\n",
       "2  Accenture   A1     WF   B3   C3\n",
       "3       Citi   A2     GS   B1   C1\n",
       "4       Citi   A2  Chase   B2   C2\n",
       "5       Citi   A2     WF   B3   C3\n",
       "6         GS   A3     GS   B1   C1\n",
       "7         GS   A3  Chase   B2   C2\n",
       "8         GS   A3     WF   B3   C3"
      ]
     },
     "execution_count": 9,
     "metadata": {},
     "output_type": "execute_result"
    }
   ],
   "source": [
    "left_df.merge(right_df, how='cross') #you will probably never need this"
   ]
  },
  {
   "cell_type": "code",
   "execution_count": 10,
   "id": "d69542d5-ae40-46e1-97d8-609da95bb648",
   "metadata": {},
   "outputs": [
    {
     "data": {
      "text/html": [
       "<div>\n",
       "<style scoped>\n",
       "    .dataframe tbody tr th:only-of-type {\n",
       "        vertical-align: middle;\n",
       "    }\n",
       "\n",
       "    .dataframe tbody tr th {\n",
       "        vertical-align: top;\n",
       "    }\n",
       "\n",
       "    .dataframe thead th {\n",
       "        text-align: right;\n",
       "    }\n",
       "</style>\n",
       "<table border=\"1\" class=\"dataframe\">\n",
       "  <thead>\n",
       "    <tr style=\"text-align: right;\">\n",
       "      <th></th>\n",
       "      <th>firm</th>\n",
       "      <th>varA</th>\n",
       "      <th>varB</th>\n",
       "      <th>varc</th>\n",
       "    </tr>\n",
       "  </thead>\n",
       "  <tbody>\n",
       "    <tr>\n",
       "      <th>0</th>\n",
       "      <td>GS</td>\n",
       "      <td>A3</td>\n",
       "      <td>B1</td>\n",
       "      <td>C1</td>\n",
       "    </tr>\n",
       "  </tbody>\n",
       "</table>\n",
       "</div>"
      ],
      "text/plain": [
       "  firm varA varB varc\n",
       "0   GS   A3   B1   C1"
      ]
     },
     "execution_count": 10,
     "metadata": {},
     "output_type": "execute_result"
    }
   ],
   "source": [
    "#Q1\n",
    "left_df.merge(right_df)\n"
   ]
  },
  {
   "cell_type": "code",
   "execution_count": 11,
   "id": "384c255d-2cd4-4479-a7ab-4bb638405fa1",
   "metadata": {},
   "outputs": [
    {
     "data": {
      "text/html": [
       "<div>\n",
       "<style scoped>\n",
       "    .dataframe tbody tr th:only-of-type {\n",
       "        vertical-align: middle;\n",
       "    }\n",
       "\n",
       "    .dataframe tbody tr th {\n",
       "        vertical-align: top;\n",
       "    }\n",
       "\n",
       "    .dataframe thead th {\n",
       "        text-align: right;\n",
       "    }\n",
       "</style>\n",
       "<table border=\"1\" class=\"dataframe\">\n",
       "  <thead>\n",
       "    <tr style=\"text-align: right;\">\n",
       "      <th></th>\n",
       "      <th>firm</th>\n",
       "      <th>varA</th>\n",
       "      <th>varB</th>\n",
       "      <th>varc</th>\n",
       "    </tr>\n",
       "  </thead>\n",
       "  <tbody>\n",
       "    <tr>\n",
       "      <th>0</th>\n",
       "      <td>GS</td>\n",
       "      <td>A3</td>\n",
       "      <td>B1</td>\n",
       "      <td>C1</td>\n",
       "    </tr>\n",
       "  </tbody>\n",
       "</table>\n",
       "</div>"
      ],
      "text/plain": [
       "  firm varA varB varc\n",
       "0   GS   A3   B1   C1"
      ]
     },
     "execution_count": 11,
     "metadata": {},
     "output_type": "execute_result"
    }
   ],
   "source": [
    "pd.merge(left_df,right_df)"
   ]
  },
  {
   "cell_type": "code",
   "execution_count": 12,
   "id": "0d23a588-320b-4540-81bd-ca6b518a53e1",
   "metadata": {},
   "outputs": [],
   "source": [
    "ChosenOne = pd.DataFrame({\n",
    "                    'tic': ['GS','GS','GS'],\n",
    "                    'varB': ['B1', 'B2', 'B3'],\n",
    "                    'varc': ['C1', 'C2', 'C3']})    \n",
    "\n",
    "CurryForThree = pd.DataFrame({\n",
    "                    'var1': ['GS','GS','GS'],\n",
    "                    'varD': ['D1', 'D2', 'D3'],\n",
    "                    'varE': ['E1', 'E2', 'E3']}).set_index('var1')"
   ]
  },
  {
   "cell_type": "code",
   "execution_count": 13,
   "id": "383c7437-3a5d-4eff-b035-9c25048d2747",
   "metadata": {},
   "outputs": [
    {
     "data": {
      "text/html": [
       "<div>\n",
       "<style scoped>\n",
       "    .dataframe tbody tr th:only-of-type {\n",
       "        vertical-align: middle;\n",
       "    }\n",
       "\n",
       "    .dataframe tbody tr th {\n",
       "        vertical-align: top;\n",
       "    }\n",
       "\n",
       "    .dataframe thead th {\n",
       "        text-align: right;\n",
       "    }\n",
       "</style>\n",
       "<table border=\"1\" class=\"dataframe\">\n",
       "  <thead>\n",
       "    <tr style=\"text-align: right;\">\n",
       "      <th></th>\n",
       "      <th>firm</th>\n",
       "      <th>varA</th>\n",
       "    </tr>\n",
       "  </thead>\n",
       "  <tbody>\n",
       "    <tr>\n",
       "      <th>0</th>\n",
       "      <td>Accenture</td>\n",
       "      <td>A1</td>\n",
       "    </tr>\n",
       "    <tr>\n",
       "      <th>1</th>\n",
       "      <td>Citi</td>\n",
       "      <td>A2</td>\n",
       "    </tr>\n",
       "    <tr>\n",
       "      <th>2</th>\n",
       "      <td>GS</td>\n",
       "      <td>A3</td>\n",
       "    </tr>\n",
       "  </tbody>\n",
       "</table>\n",
       "</div>"
      ],
      "text/plain": [
       "        firm varA\n",
       "0  Accenture   A1\n",
       "1       Citi   A2\n",
       "2         GS   A3"
      ]
     },
     "execution_count": 13,
     "metadata": {},
     "output_type": "execute_result"
    }
   ],
   "source": [
    "#Q2\n",
    "left_df"
   ]
  },
  {
   "cell_type": "code",
   "execution_count": 14,
   "id": "3d50d644-e88a-46da-a2af-a40748683998",
   "metadata": {},
   "outputs": [
    {
     "data": {
      "text/html": [
       "<div>\n",
       "<style scoped>\n",
       "    .dataframe tbody tr th:only-of-type {\n",
       "        vertical-align: middle;\n",
       "    }\n",
       "\n",
       "    .dataframe tbody tr th {\n",
       "        vertical-align: top;\n",
       "    }\n",
       "\n",
       "    .dataframe thead th {\n",
       "        text-align: right;\n",
       "    }\n",
       "</style>\n",
       "<table border=\"1\" class=\"dataframe\">\n",
       "  <thead>\n",
       "    <tr style=\"text-align: right;\">\n",
       "      <th></th>\n",
       "      <th>tic</th>\n",
       "      <th>varB</th>\n",
       "      <th>varc</th>\n",
       "    </tr>\n",
       "  </thead>\n",
       "  <tbody>\n",
       "    <tr>\n",
       "      <th>0</th>\n",
       "      <td>GS</td>\n",
       "      <td>B1</td>\n",
       "      <td>C1</td>\n",
       "    </tr>\n",
       "    <tr>\n",
       "      <th>1</th>\n",
       "      <td>GS</td>\n",
       "      <td>B2</td>\n",
       "      <td>C2</td>\n",
       "    </tr>\n",
       "    <tr>\n",
       "      <th>2</th>\n",
       "      <td>GS</td>\n",
       "      <td>B3</td>\n",
       "      <td>C3</td>\n",
       "    </tr>\n",
       "  </tbody>\n",
       "</table>\n",
       "</div>"
      ],
      "text/plain": [
       "  tic varB varc\n",
       "0  GS   B1   C1\n",
       "1  GS   B2   C2\n",
       "2  GS   B3   C3"
      ]
     },
     "execution_count": 14,
     "metadata": {},
     "output_type": "execute_result"
    }
   ],
   "source": [
    "ChosenOne"
   ]
  },
  {
   "cell_type": "code",
   "execution_count": 16,
   "id": "e5ecabda-66b9-4782-aa3f-e13befd8964a",
   "metadata": {},
   "outputs": [
    {
     "data": {
      "text/html": [
       "<div>\n",
       "<style scoped>\n",
       "    .dataframe tbody tr th:only-of-type {\n",
       "        vertical-align: middle;\n",
       "    }\n",
       "\n",
       "    .dataframe tbody tr th {\n",
       "        vertical-align: top;\n",
       "    }\n",
       "\n",
       "    .dataframe thead th {\n",
       "        text-align: right;\n",
       "    }\n",
       "</style>\n",
       "<table border=\"1\" class=\"dataframe\">\n",
       "  <thead>\n",
       "    <tr style=\"text-align: right;\">\n",
       "      <th></th>\n",
       "      <th>firm</th>\n",
       "      <th>varA</th>\n",
       "      <th>tic</th>\n",
       "      <th>varB</th>\n",
       "      <th>varc</th>\n",
       "    </tr>\n",
       "  </thead>\n",
       "  <tbody>\n",
       "    <tr>\n",
       "      <th>0</th>\n",
       "      <td>Accenture</td>\n",
       "      <td>A1</td>\n",
       "      <td>NaN</td>\n",
       "      <td>NaN</td>\n",
       "      <td>NaN</td>\n",
       "    </tr>\n",
       "    <tr>\n",
       "      <th>1</th>\n",
       "      <td>Citi</td>\n",
       "      <td>A2</td>\n",
       "      <td>NaN</td>\n",
       "      <td>NaN</td>\n",
       "      <td>NaN</td>\n",
       "    </tr>\n",
       "    <tr>\n",
       "      <th>2</th>\n",
       "      <td>GS</td>\n",
       "      <td>A3</td>\n",
       "      <td>GS</td>\n",
       "      <td>B1</td>\n",
       "      <td>C1</td>\n",
       "    </tr>\n",
       "    <tr>\n",
       "      <th>3</th>\n",
       "      <td>GS</td>\n",
       "      <td>A3</td>\n",
       "      <td>GS</td>\n",
       "      <td>B2</td>\n",
       "      <td>C2</td>\n",
       "    </tr>\n",
       "    <tr>\n",
       "      <th>4</th>\n",
       "      <td>GS</td>\n",
       "      <td>A3</td>\n",
       "      <td>GS</td>\n",
       "      <td>B3</td>\n",
       "      <td>C3</td>\n",
       "    </tr>\n",
       "  </tbody>\n",
       "</table>\n",
       "</div>"
      ],
      "text/plain": [
       "        firm varA  tic varB varc\n",
       "0  Accenture   A1  NaN  NaN  NaN\n",
       "1       Citi   A2  NaN  NaN  NaN\n",
       "2         GS   A3   GS   B1   C1\n",
       "3         GS   A3   GS   B2   C2\n",
       "4         GS   A3   GS   B3   C3"
      ]
     },
     "execution_count": 16,
     "metadata": {},
     "output_type": "execute_result"
    }
   ],
   "source": [
    "left_df.merge(ChosenOne, how='outer', left_on='firm', right_on='tic')"
   ]
  },
  {
   "cell_type": "code",
   "execution_count": 21,
   "id": "a1db0c74-3830-418c-8426-71ad3130d7d6",
   "metadata": {},
   "outputs": [
    {
     "data": {
      "text/html": [
       "<div>\n",
       "<style scoped>\n",
       "    .dataframe tbody tr th:only-of-type {\n",
       "        vertical-align: middle;\n",
       "    }\n",
       "\n",
       "    .dataframe tbody tr th {\n",
       "        vertical-align: top;\n",
       "    }\n",
       "\n",
       "    .dataframe thead th {\n",
       "        text-align: right;\n",
       "    }\n",
       "</style>\n",
       "<table border=\"1\" class=\"dataframe\">\n",
       "  <thead>\n",
       "    <tr style=\"text-align: right;\">\n",
       "      <th></th>\n",
       "      <th>firm</th>\n",
       "      <th>varA</th>\n",
       "      <th>varD</th>\n",
       "      <th>varE</th>\n",
       "    </tr>\n",
       "  </thead>\n",
       "  <tbody>\n",
       "    <tr>\n",
       "      <th>0</th>\n",
       "      <td>Accenture</td>\n",
       "      <td>A1</td>\n",
       "      <td>NaN</td>\n",
       "      <td>NaN</td>\n",
       "    </tr>\n",
       "    <tr>\n",
       "      <th>1</th>\n",
       "      <td>Citi</td>\n",
       "      <td>A2</td>\n",
       "      <td>NaN</td>\n",
       "      <td>NaN</td>\n",
       "    </tr>\n",
       "    <tr>\n",
       "      <th>2</th>\n",
       "      <td>GS</td>\n",
       "      <td>A3</td>\n",
       "      <td>D1</td>\n",
       "      <td>E1</td>\n",
       "    </tr>\n",
       "    <tr>\n",
       "      <th>2</th>\n",
       "      <td>GS</td>\n",
       "      <td>A3</td>\n",
       "      <td>D2</td>\n",
       "      <td>E2</td>\n",
       "    </tr>\n",
       "    <tr>\n",
       "      <th>2</th>\n",
       "      <td>GS</td>\n",
       "      <td>A3</td>\n",
       "      <td>D3</td>\n",
       "      <td>E3</td>\n",
       "    </tr>\n",
       "  </tbody>\n",
       "</table>\n",
       "</div>"
      ],
      "text/plain": [
       "        firm varA varD varE\n",
       "0  Accenture   A1  NaN  NaN\n",
       "1       Citi   A2  NaN  NaN\n",
       "2         GS   A3   D1   E1\n",
       "2         GS   A3   D2   E2\n",
       "2         GS   A3   D3   E3"
      ]
     },
     "execution_count": 21,
     "metadata": {},
     "output_type": "execute_result"
    }
   ],
   "source": [
    "left_df.merge(CurryForThree, how='outer', left_on='firm', right_index=True)"
   ]
  },
  {
   "cell_type": "code",
   "execution_count": null,
   "id": "ba782c8a-6327-4aef-a5a7-2a4bbc9bf7bb",
   "metadata": {},
   "outputs": [],
   "source": [
    "#Q3 Do an outer merge with `left_df` and `right_df` and output the source of each observation by using the \"indicate\" option.\n",
    "\n",
    "a_bad_name = left_df.merge(right_df, how='outer', indicator=True)"
   ]
  },
  {
   "cell_type": "code",
   "execution_count": null,
   "id": "fe3c9f44-4fd0-4caf-8603-5a9ba0be4d4a",
   "metadata": {},
   "outputs": [],
   "source": [
    "a_bad_name['_merge'].value_counts() #always do this!"
   ]
  },
  {
   "cell_type": "code",
   "execution_count": 23,
   "id": "572c4996-abe7-416e-b0b5-aed90592f3d1",
   "metadata": {},
   "outputs": [
    {
     "data": {
      "text/html": [
       "<div>\n",
       "<style scoped>\n",
       "    .dataframe tbody tr th:only-of-type {\n",
       "        vertical-align: middle;\n",
       "    }\n",
       "\n",
       "    .dataframe tbody tr th {\n",
       "        vertical-align: top;\n",
       "    }\n",
       "\n",
       "    .dataframe thead th {\n",
       "        text-align: right;\n",
       "    }\n",
       "</style>\n",
       "<table border=\"1\" class=\"dataframe\">\n",
       "  <thead>\n",
       "    <tr style=\"text-align: right;\">\n",
       "      <th></th>\n",
       "      <th>firm</th>\n",
       "      <th>varA</th>\n",
       "      <th>varB</th>\n",
       "      <th>varc</th>\n",
       "      <th>_merge</th>\n",
       "    </tr>\n",
       "  </thead>\n",
       "  <tbody>\n",
       "    <tr>\n",
       "      <th>0</th>\n",
       "      <td>Accenture</td>\n",
       "      <td>A1</td>\n",
       "      <td>NaN</td>\n",
       "      <td>NaN</td>\n",
       "      <td>left_only</td>\n",
       "    </tr>\n",
       "    <tr>\n",
       "      <th>1</th>\n",
       "      <td>Citi</td>\n",
       "      <td>A2</td>\n",
       "      <td>NaN</td>\n",
       "      <td>NaN</td>\n",
       "      <td>left_only</td>\n",
       "    </tr>\n",
       "    <tr>\n",
       "      <th>2</th>\n",
       "      <td>GS</td>\n",
       "      <td>A3</td>\n",
       "      <td>B1</td>\n",
       "      <td>C1</td>\n",
       "      <td>both</td>\n",
       "    </tr>\n",
       "    <tr>\n",
       "      <th>3</th>\n",
       "      <td>Chase</td>\n",
       "      <td>NaN</td>\n",
       "      <td>B2</td>\n",
       "      <td>C2</td>\n",
       "      <td>right_only</td>\n",
       "    </tr>\n",
       "    <tr>\n",
       "      <th>4</th>\n",
       "      <td>WF</td>\n",
       "      <td>NaN</td>\n",
       "      <td>B3</td>\n",
       "      <td>C3</td>\n",
       "      <td>right_only</td>\n",
       "    </tr>\n",
       "  </tbody>\n",
       "</table>\n",
       "</div>"
      ],
      "text/plain": [
       "        firm varA varB varc      _merge\n",
       "0  Accenture   A1  NaN  NaN   left_only\n",
       "1       Citi   A2  NaN  NaN   left_only\n",
       "2         GS   A3   B1   C1        both\n",
       "3      Chase  NaN   B2   C2  right_only\n",
       "4         WF  NaN   B3   C3  right_only"
      ]
     },
     "execution_count": 23,
     "metadata": {},
     "output_type": "execute_result"
    }
   ],
   "source": [
    "#Q4 Repeat the outer merge we just did, but four times: try each possible value of \"validate\"\n",
    "left_df.merge(right_df, how='outer', indicator=True, validate='1:1')"
   ]
  },
  {
   "cell_type": "code",
   "execution_count": 24,
   "id": "d7a72b2f-ed4a-4a3c-8f3b-2dbb0cde8742",
   "metadata": {},
   "outputs": [
    {
     "data": {
      "text/html": [
       "<div>\n",
       "<style scoped>\n",
       "    .dataframe tbody tr th:only-of-type {\n",
       "        vertical-align: middle;\n",
       "    }\n",
       "\n",
       "    .dataframe tbody tr th {\n",
       "        vertical-align: top;\n",
       "    }\n",
       "\n",
       "    .dataframe thead th {\n",
       "        text-align: right;\n",
       "    }\n",
       "</style>\n",
       "<table border=\"1\" class=\"dataframe\">\n",
       "  <thead>\n",
       "    <tr style=\"text-align: right;\">\n",
       "      <th></th>\n",
       "      <th>firm</th>\n",
       "      <th>varA</th>\n",
       "      <th>varB</th>\n",
       "      <th>varc</th>\n",
       "      <th>_merge</th>\n",
       "    </tr>\n",
       "  </thead>\n",
       "  <tbody>\n",
       "    <tr>\n",
       "      <th>0</th>\n",
       "      <td>Accenture</td>\n",
       "      <td>A1</td>\n",
       "      <td>NaN</td>\n",
       "      <td>NaN</td>\n",
       "      <td>left_only</td>\n",
       "    </tr>\n",
       "    <tr>\n",
       "      <th>1</th>\n",
       "      <td>Citi</td>\n",
       "      <td>A2</td>\n",
       "      <td>NaN</td>\n",
       "      <td>NaN</td>\n",
       "      <td>left_only</td>\n",
       "    </tr>\n",
       "    <tr>\n",
       "      <th>2</th>\n",
       "      <td>GS</td>\n",
       "      <td>A3</td>\n",
       "      <td>B1</td>\n",
       "      <td>C1</td>\n",
       "      <td>both</td>\n",
       "    </tr>\n",
       "    <tr>\n",
       "      <th>3</th>\n",
       "      <td>Chase</td>\n",
       "      <td>NaN</td>\n",
       "      <td>B2</td>\n",
       "      <td>C2</td>\n",
       "      <td>right_only</td>\n",
       "    </tr>\n",
       "    <tr>\n",
       "      <th>4</th>\n",
       "      <td>WF</td>\n",
       "      <td>NaN</td>\n",
       "      <td>B3</td>\n",
       "      <td>C3</td>\n",
       "      <td>right_only</td>\n",
       "    </tr>\n",
       "  </tbody>\n",
       "</table>\n",
       "</div>"
      ],
      "text/plain": [
       "        firm varA varB varc      _merge\n",
       "0  Accenture   A1  NaN  NaN   left_only\n",
       "1       Citi   A2  NaN  NaN   left_only\n",
       "2         GS   A3   B1   C1        both\n",
       "3      Chase  NaN   B2   C2  right_only\n",
       "4         WF  NaN   B3   C3  right_only"
      ]
     },
     "execution_count": 24,
     "metadata": {},
     "output_type": "execute_result"
    }
   ],
   "source": [
    "left_df.merge(right_df, how='outer', indicator=True, validate='1:m')"
   ]
  },
  {
   "cell_type": "markdown",
   "id": "76303468-734f-4672-bf93-9a46c8bec31d",
   "metadata": {},
   "source": [
    "## Part 2\n",
    "\n",
    "- Q5: [Guess what category of join](https://ledatascifi.github.io/ledatascifi-2022/content/03/05b_merging.html#categories-of-joins) each of the following merges are?  \n",
    "    1. `left_df` and `right_df` (you already know from Q4)\n",
    "    1. `left_df` and `ChosenOne`\n",
    "    1. `CurryForThree` and `left_df`\n",
    "    1. `ChosenOne` and `CurryForThree`\n",
    "- Q6: Do each of those four merge with `how='inner'` as an option. What is the length of each resulting dataframe?\n",
    "- Q7: Do an outer merge of `left_df` and `ChosenOne`. How many observations are in the resulting data, and why is it different than we foudn in Q6?\n",
    "- Q8: Merge these next two datasets with `how='inner'` as an option. What s the length of the resulting dataframe and do you think it's right?"
   ]
  },
  {
   "cell_type": "code",
   "execution_count": 25,
   "id": "770fb7f1-f309-4ddd-8231-b0f91ded121a",
   "metadata": {},
   "outputs": [],
   "source": [
    "poppop = pd.DataFrame({\n",
    "                    'tic': ['TSLA','TSLA','GM'],\n",
    "                    'varB': ['2016', '2017', '2018'],\n",
    "                    'varc': ['C1', 'C2', 'C3']})    \n",
    "\n",
    "CurryForThree = pd.DataFrame({\n",
    "                    'var1': ['F','TSLA','TSLA'],\n",
    "                    'varD': ['2016', '2017', '2018'],\n",
    "                    'varE': ['E1', 'E2', 'E3']}).set_index('var1')"
   ]
  },
  {
   "cell_type": "code",
   "execution_count": 26,
   "id": "16425ef9-ed86-4961-8e25-c18659b5b77d",
   "metadata": {},
   "outputs": [
    {
     "data": {
      "text/html": [
       "<div>\n",
       "<style scoped>\n",
       "    .dataframe tbody tr th:only-of-type {\n",
       "        vertical-align: middle;\n",
       "    }\n",
       "\n",
       "    .dataframe tbody tr th {\n",
       "        vertical-align: top;\n",
       "    }\n",
       "\n",
       "    .dataframe thead th {\n",
       "        text-align: right;\n",
       "    }\n",
       "</style>\n",
       "<table border=\"1\" class=\"dataframe\">\n",
       "  <thead>\n",
       "    <tr style=\"text-align: right;\">\n",
       "      <th></th>\n",
       "      <th>tic</th>\n",
       "      <th>varB</th>\n",
       "      <th>varc</th>\n",
       "      <th>varD</th>\n",
       "      <th>varE</th>\n",
       "    </tr>\n",
       "  </thead>\n",
       "  <tbody>\n",
       "    <tr>\n",
       "      <th>0</th>\n",
       "      <td>TSLA</td>\n",
       "      <td>2017</td>\n",
       "      <td>C2</td>\n",
       "      <td>2017</td>\n",
       "      <td>E2</td>\n",
       "    </tr>\n",
       "  </tbody>\n",
       "</table>\n",
       "</div>"
      ],
      "text/plain": [
       "    tic  varB varc  varD varE\n",
       "0  TSLA  2017   C2  2017   E2"
      ]
     },
     "execution_count": 26,
     "metadata": {},
     "output_type": "execute_result"
    }
   ],
   "source": [
    "#Q8\n",
    "poppop.merge(CurryForThree, left_on=['tic', 'varB'], right_on=['var1','varD'])"
   ]
  },
  {
   "cell_type": "markdown",
   "id": "f2465bb9-331f-4ee7-80a5-c400a91c1b05",
   "metadata": {},
   "source": [
    "## Part 3 - Collecting tips\n",
    "\n",
    "You should, after class, collect tips about\n",
    "- The most common use of merging and safeguards you can use\n",
    "- When should you create variables - before or after a merge?\n",
    "- Best practices for merging"
   ]
  }
 ],
 "metadata": {
  "kernelspec": {
   "display_name": "Python 3",
   "language": "python",
   "name": "python3"
  },
  "language_info": {
   "codemirror_mode": {
    "name": "ipython",
    "version": 3
   },
   "file_extension": ".py",
   "mimetype": "text/x-python",
   "name": "python",
   "nbconvert_exporter": "python",
   "pygments_lexer": "ipython3",
   "version": "3.8.8"
  }
 },
 "nbformat": 4,
 "nbformat_minor": 5
}
